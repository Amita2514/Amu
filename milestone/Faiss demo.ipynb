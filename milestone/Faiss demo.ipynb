{
 "cells": [
  {
   "cell_type": "code",
   "execution_count": 1,
   "id": "226ca0eb-0d28-4afd-a516-3d9ce24b8d5b",
   "metadata": {},
   "outputs": [
    {
     "name": "stdout",
     "output_type": "stream",
     "text": [
      "WARNING:tensorflow:From C:\\Users\\choud\\anaconda3\\New folder\\Lib\\site-packages\\tf_keras\\src\\losses.py:2976: The name tf.losses.sparse_softmax_cross_entropy is deprecated. Please use tf.compat.v1.losses.sparse_softmax_cross_entropy instead.\n",
      "\n"
     ]
    }
   ],
   "source": [
    "from sentence_transformers import SentenceTransformer\n",
    "import faiss\n",
    "import numpy as np\n",
    "import requests\n",
    "from bs4 import BeautifulSoup"
   ]
  },
  {
   "cell_type": "code",
   "execution_count": 2,
   "id": "f5aa4a34-7a2a-4860-be4c-1d94bf87e67d",
   "metadata": {},
   "outputs": [],
   "source": [
    "# Load Sentence Transformer\n",
    "model = SentenceTransformer('all-MiniLM-L6-v2')\n"
   ]
  },
  {
   "cell_type": "code",
   "execution_count": 3,
   "id": "24f6b3f7-2f53-4d17-b05b-44155e398687",
   "metadata": {},
   "outputs": [],
   "source": [
    "# STEP 1: Fetch large text from Wikipedia\n",
    "url = \"https://en.wikipedia.org/wiki/India\"\n",
    "response = requests.get(url)\n",
    "soup = BeautifulSoup(response.text, \"html.parser\")\n",
    "paragraphs = [p.get_text() for p in soup.find_all(\"p\")]\n",
    "large_text = \" \".join(paragraphs[:20])  \n"
   ]
  },
  {
   "cell_type": "code",
   "execution_count": 4,
   "id": "8bb45357-5723-44be-b2f5-ca62d0ed0916",
   "metadata": {},
   "outputs": [
    {
     "name": "stdout",
     "output_type": "stream",
     "text": [
      "📄 Total Chunks Created: 29\n"
     ]
    }
   ],
   "source": [
    "# STEP 2: Split into chunks\n",
    "def split_text(text, chunk_size=100):\n",
    "    words = text.split()\n",
    "    return [\" \".join(words[i:i + chunk_size]) for i in range(0, len(words), chunk_size)]\n",
    "\n",
    "chunks = split_text(large_text)\n",
    "print(f\"📄 Total Chunks Created: {len(chunks)}\")"
   ]
  },
  {
   "cell_type": "code",
   "execution_count": 5,
   "id": "aec48242-a937-4526-b2f4-ddcb3b6a4578",
   "metadata": {},
   "outputs": [],
   "source": [
    "# STEP 3: Convert to embeddings and index\n",
    "embeddings = model.encode(chunks, convert_to_numpy=True)\n",
    "dim = embeddings.shape[1]\n",
    "index = faiss.IndexFlatL2(dim)\n",
    "index.add(embeddings)"
   ]
  },
  {
   "cell_type": "code",
   "execution_count": 6,
   "id": "488fe990-5876-4ac3-afc8-32f1272937d1",
   "metadata": {},
   "outputs": [],
   "source": [
    "# STEP 3: Create FAISS index\n",
    "embeddings = model.encode(chunks, convert_to_numpy=True)\n",
    "dim = embeddings.shape[1]\n",
    "index = faiss.IndexIDMap(faiss.IndexFlatL2(dim))  # Use IDMap to track IDs\n",
    "ids = np.arange(len(embeddings))\n",
    "index.add_with_ids(embeddings, ids)"
   ]
  },
  {
   "cell_type": "code",
   "execution_count": 7,
   "id": "7a28f682-e24e-40fe-ad80-0ec1a540d138",
   "metadata": {},
   "outputs": [],
   "source": [
    "# Map ID to chunk\n",
    "id_to_text = {i: chunk for i, chunk in zip(ids, chunks)}"
   ]
  },
  {
   "cell_type": "code",
   "execution_count": 8,
   "id": "f02ec427-32c5-4854-bfe7-cbb2c0b4e79f",
   "metadata": {},
   "outputs": [],
   "source": [
    "# ----- READ -----\n",
    "def search(query, k=3):\n",
    "    query_vec = model.encode([query])\n",
    "    distances, indices = index.search(query_vec, k)\n",
    "    print(f\"\\n🔍 Query: {query}\")\n",
    "    for rank, idx in enumerate(indices[0]):\n",
    "        if idx in id_to_text:\n",
    "            print(f\"  Rank {rank + 1}: {id_to_text[idx][:100]}... (Dist: {distances[0][rank]:.4f})\")\n",
    "        else:\n",
    "            print(f\"  Rank {rank + 1}: [DELETED] (Dist: {distances[0][rank]:.4f})\")"
   ]
  },
  {
   "cell_type": "code",
   "execution_count": 9,
   "id": "6db7d8ec-4a48-41b3-949a-bb0ed129c0bd",
   "metadata": {},
   "outputs": [],
   "source": [
    "# ----- CREATE -----\n",
    "def add_new_document(text, doc_id):\n",
    "    emb = model.encode([text], convert_to_numpy=True)\n",
    "    index.add_with_ids(emb, np.array([doc_id]))\n",
    "    id_to_text[doc_id] = text\n",
    "    print(f\"✅ Document added with ID {doc_id}\")"
   ]
  },
  {
   "cell_type": "code",
   "execution_count": 10,
   "id": "fa76e281-a645-40e7-8343-5f27bd0357f2",
   "metadata": {},
   "outputs": [],
   "source": [
    "# ----- UPDATE -----\n",
    "def update_document(doc_id, new_text):\n",
    "    if doc_id in id_to_text:\n",
    "        index.remove_ids(np.array([doc_id]))\n",
    "        add_new_document(new_text, doc_id)\n",
    "        print(f\"🔁 Document ID {doc_id} updated.\")\n",
    "    else:\n",
    "        print(f\"⚠️ Document ID {doc_id} not found.\")"
   ]
  },
  {
   "cell_type": "code",
   "execution_count": 11,
   "id": "1fbc47e2-c1b8-48db-95ca-ee4e9dda3d91",
   "metadata": {},
   "outputs": [],
   "source": [
    "# ----- DELETE -----\n",
    "def delete_document(doc_id):\n",
    "    if doc_id in id_to_text:\n",
    "        index.remove_ids(np.array([doc_id]))\n",
    "        del id_to_text[doc_id]\n",
    "        print(f\"❌ Document ID {doc_id} deleted.\")\n",
    "    else:\n",
    "        print(f\"⚠️ Document ID {doc_id} not found.\")"
   ]
  },
  {
   "cell_type": "code",
   "execution_count": 12,
   "id": "e40f26d5-d4b9-4510-a1b9-9171252c4b73",
   "metadata": {},
   "outputs": [
    {
     "name": "stdout",
     "output_type": "stream",
     "text": [
      "\n",
      "🔍 Query: Tell me about Indian independence\n",
      "  Rank 1: the public life took root.[53] A nationalist movement emerged in India, the first in the non-Europea... (Dist: 0.8480)\n",
      "  Rank 2: It was marked by British reforms but also repressive legislation, by more strident Indian calls for ... (Dist: 0.9668)\n",
      "  Rank 3: in the second millennium.[43] The resulting Delhi Sultanate drew northern India into the cosmopolita... (Dist: 0.9736)\n",
      "✅ Document added with ID 999\n",
      "\n",
      "🔍 Query: independence\n",
      "  Rank 1: India gained independence in 1947 from British rule.... (Dist: 1.0294)\n",
      "  Rank 2: the public life took root.[53] A nationalist movement emerged in India, the first in the non-Europea... (Dist: 1.3472)\n",
      "  Rank 3: It was marked by British reforms but also repressive legislation, by more strident Indian calls for ... (Dist: 1.3553)\n",
      "✅ Document added with ID 999\n",
      "🔁 Document ID 999 updated.\n",
      "\n",
      "🔍 Query: independence from British\n",
      "  Rank 1: India became independent on 15th August 1947.... (Dist: 0.9894)\n",
      "  Rank 2: the public life took root.[53] A nationalist movement emerged in India, the first in the non-Europea... (Dist: 1.1421)\n",
      "  Rank 3: It was marked by British reforms but also repressive legislation, by more strident Indian calls for ... (Dist: 1.1560)\n",
      "❌ Document ID 999 deleted.\n",
      "\n",
      "🔍 Query: independence\n",
      "  Rank 1: the public life took root.[53] A nationalist movement emerged in India, the first in the non-Europea... (Dist: 1.3472)\n",
      "  Rank 2: It was marked by British reforms but also repressive legislation, by more strident Indian calls for ... (Dist: 1.3553)\n",
      "  Rank 3: the foundations of Company rule.[146][147] Although the rebellion was suppressed by 1858, it led to ... (Dist: 1.5744)\n"
     ]
    }
   ],
   "source": [
    "# DEMO OUTPUT\n",
    "search(\"Tell me about Indian independence\")\n",
    "add_new_document(\"India gained independence in 1947 from British rule.\", 999)\n",
    "search(\"independence\")\n",
    "update_document(999, \"India became independent on 15th August 1947.\")\n",
    "search(\"independence from British\")\n",
    "delete_document(999)\n",
    "search(\"independence\")"
   ]
  },
  {
   "cell_type": "code",
   "execution_count": null,
   "id": "7ff11e5a-f4ad-4374-8547-b25b1960c2e6",
   "metadata": {},
   "outputs": [],
   "source": []
  }
 ],
 "metadata": {
  "kernelspec": {
   "display_name": "Python 3 (ipykernel)",
   "language": "python",
   "name": "python3"
  },
  "language_info": {
   "codemirror_mode": {
    "name": "ipython",
    "version": 3
   },
   "file_extension": ".py",
   "mimetype": "text/x-python",
   "name": "python",
   "nbconvert_exporter": "python",
   "pygments_lexer": "ipython3",
   "version": "3.12.7"
  }
 },
 "nbformat": 4,
 "nbformat_minor": 5
}
